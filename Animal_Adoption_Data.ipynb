{
  "nbformat": 4,
  "nbformat_minor": 0,
  "metadata": {
    "colab": {
      "name": "Animal Adoption Data",
      "provenance": [],
      "collapsed_sections": [],
      "include_colab_link": true
    },
    "kernelspec": {
      "name": "python3",
      "display_name": "Python 3"
    }
  },
  "cells": [
    {
      "cell_type": "markdown",
      "metadata": {
        "id": "view-in-github",
        "colab_type": "text"
      },
      "source": [
        "<a href=\"https://colab.research.google.com/github/mtu5017/IST210/blob/master/Animal_Adoption_Data.ipynb\" target=\"_parent\"><img src=\"https://colab.research.google.com/assets/colab-badge.svg\" alt=\"Open In Colab\"/></a>"
      ]
    },
    {
      "cell_type": "code",
      "metadata": {
        "id": "LJW6No8XxGAS",
        "colab_type": "code",
        "colab": {}
      },
      "source": [
        "import sqlite3 # Once imported in a single notebook, it is available to us throughout the rest of the notebook. \n",
        "# connect to database, if not there, create it.\n",
        "connectionToDatabase = sqlite3.connect('AdoptionCenterData') \n",
        "cursor = connectionToDatabase.cursor()\n",
        "cursor.execute('''drop table IF EXISTS animal''')\n",
        "connectionToDatabase.commit()\n",
        "\n",
        "cursor.execute('''create table animal (animalID int PRIMARY KEY, breed text, gender text, storeID int, monthAdopted text)''')\n",
        "connectionToDatabase.commit()\n",
        "\n"
      ],
      "execution_count": 0,
      "outputs": []
    },
    {
      "cell_type": "code",
      "metadata": {
        "id": "TrnqxrMJ0Mbp",
        "colab_type": "code",
        "colab": {}
      },
      "source": [
        "cursor.execute('''insert into animal values (10001, \"Dog\", \"Male\", 1, \"January\");''')\n",
        "connectionToDatabase.commit()"
      ],
      "execution_count": 0,
      "outputs": []
    },
    {
      "cell_type": "code",
      "metadata": {
        "id": "9jUQaMBJ25Hn",
        "colab_type": "code",
        "colab": {}
      },
      "source": [
        "cursor.execute('''insert into animal values (18955, \"Lynx\", \"Male\", 1, \"May\");''')\n",
        "connectionToDatabase.commit()\n"
      ],
      "execution_count": 0,
      "outputs": []
    },
    {
      "cell_type": "code",
      "metadata": {
        "id": "Hic-F4R426BX",
        "colab_type": "code",
        "colab": {}
      },
      "source": [
        "cursor.execute('''insert into animal values (29503, \"Caracal\", \"Female\", 1, \"September\");''')\n",
        "connectionToDatabase.commit()\n"
      ],
      "execution_count": 0,
      "outputs": []
    },
    {
      "cell_type": "code",
      "metadata": {
        "id": "yDdEwA3MGanm",
        "colab_type": "code",
        "colab": {}
      },
      "source": [
        "cursor.execute('''insert into animal values (14093, \"Dog\", \"Female\", 3, \"March\");''')\n",
        "connectionToDatabase.commit()\n"
      ],
      "execution_count": 0,
      "outputs": []
    },
    {
      "cell_type": "code",
      "metadata": {
        "id": "6qlngft5GbMM",
        "colab_type": "code",
        "colab": {}
      },
      "source": [
        "cursor.execute('''insert into animal values (18745, \"Chicken\", \"male\", 2, \"January\");''')\n",
        "connectionToDatabase.commit()"
      ],
      "execution_count": 0,
      "outputs": []
    },
    {
      "cell_type": "code",
      "metadata": {
        "id": "v7_tSKR22lER",
        "colab_type": "code",
        "outputId": "bea40bcc-3911-4445-da21-10383f343642",
        "colab": {
          "base_uri": "https://localhost:8080/",
          "height": 101
        }
      },
      "source": [
        "cursor.execute('select * FROM animal')\n",
        "\n",
        "for row in cursor.fetchall():\n",
        "  print (row)"
      ],
      "execution_count": 131,
      "outputs": [
        {
          "output_type": "stream",
          "text": [
            "(10001, 'Dog', 'Male', 1, 'January')\n",
            "(18955, 'Lynx', 'Male', 1, 'May')\n",
            "(29503, 'Caracal', 'Female', 1, 'September')\n",
            "(14093, 'Dog', 'Female', 3, 'March')\n",
            "(18745, 'Chicken', 'male', 2, 'January')\n"
          ],
          "name": "stdout"
        }
      ]
    },
    {
      "cell_type": "code",
      "metadata": {
        "id": "YXEqs8StJc9P",
        "colab_type": "code",
        "colab": {}
      },
      "source": [
        "cursor.execute('''drop table IF EXISTS employees''')\n",
        "connectionToDatabase.commit()\n",
        "\n",
        "cursor.execute('''create table employees (employeeID int PRIMARY KEY, firstName text, lastName text, jobTitle text, salary int, storeID int)''')\n",
        "connectionToDatabase.commit()"
      ],
      "execution_count": 0,
      "outputs": []
    },
    {
      "cell_type": "code",
      "metadata": {
        "id": "j4bex1wjYE4g",
        "colab_type": "code",
        "colab": {}
      },
      "source": [
        "cursor.execute('''insert into employees values (52, \"Mark\", \"Roberts\", \"Cashier\", 10000, 1);''')\n",
        "connectionToDatabase.commit()"
      ],
      "execution_count": 0,
      "outputs": []
    },
    {
      "cell_type": "code",
      "metadata": {
        "id": "e2UgmP3YdzdU",
        "colab_type": "code",
        "colab": {}
      },
      "source": [
        "cursor.execute('''insert into employees values (20, \"Bill\", \"Waters\", \"Manager\", 70000, 1);''')\n",
        "connectionToDatabase.commit()"
      ],
      "execution_count": 0,
      "outputs": []
    },
    {
      "cell_type": "code",
      "metadata": {
        "id": "rwD71Hggdzz6",
        "colab_type": "code",
        "colab": {}
      },
      "source": [
        "cursor.execute('''insert into employees values (903, \"Humuhumunukunukuapua'a\", \"Smith\", \"Cashier\", 30000, 3);''')\n",
        "connectionToDatabase.commit()"
      ],
      "execution_count": 0,
      "outputs": []
    },
    {
      "cell_type": "code",
      "metadata": {
        "id": "OjIqitaCd0CC",
        "colab_type": "code",
        "colab": {}
      },
      "source": [
        "cursor.execute('''insert into employees values (404, \"Karen\", \"Williams\", \"Regional-Manager\", 40000, 5);''')\n",
        "connectionToDatabase.commit()"
      ],
      "execution_count": 0,
      "outputs": []
    },
    {
      "cell_type": "code",
      "metadata": {
        "id": "f1Ata9YZd0UT",
        "colab_type": "code",
        "colab": {}
      },
      "source": [
        "cursor.execute('''insert into employees values (808, \"Samuel\", \"Baldwin\", \"Cashier\", 25495, 4);''')\n",
        "connectionToDatabase.commit()"
      ],
      "execution_count": 0,
      "outputs": []
    },
    {
      "cell_type": "code",
      "metadata": {
        "id": "Jb3tD7vweJHL",
        "colab_type": "code",
        "colab": {}
      },
      "source": [
        "cursor.execute('''insert into employees values (439, \"Annie\", \"Waller\", \"Cashier\", 32000, 2);''')\n",
        "connectionToDatabase.commit()"
      ],
      "execution_count": 0,
      "outputs": []
    },
    {
      "cell_type": "code",
      "metadata": {
        "id": "g-Y5Q4iaeMmL",
        "colab_type": "code",
        "outputId": "ba0c46a9-a31e-4eff-d6ca-5f7e01c8c21e",
        "colab": {
          "base_uri": "https://localhost:8080/",
          "height": 118
        }
      },
      "source": [
        "cursor.execute('select * FROM employees')\n",
        "\n",
        "for row in cursor.fetchall():\n",
        "  print (row)"
      ],
      "execution_count": 139,
      "outputs": [
        {
          "output_type": "stream",
          "text": [
            "(52, 'Mark', 'Roberts', 'Cashier', 10000, 1)\n",
            "(20, 'Bill', 'Waters', 'Manager', 70000, 1)\n",
            "(903, \"Humuhumunukunukuapua'a\", 'Smith', 'Cashier', 30000, 3)\n",
            "(404, 'Karen', 'Williams', 'Regional-Manager', 40000, 5)\n",
            "(808, 'Samuel', 'Baldwin', 'Cashier', 25495, 4)\n",
            "(439, 'Annie', 'Waller', 'Cashier', 32000, 2)\n"
          ],
          "name": "stdout"
        }
      ]
    },
    {
      "cell_type": "code",
      "metadata": {
        "id": "1qhxbMg6JhB2",
        "colab_type": "code",
        "colab": {}
      },
      "source": [
        "cursor.execute('''drop table IF EXISTS storeID''')\n",
        "connectionToDatabase.commit()\n",
        "\n",
        "cursor.execute('''create table storeID (storeID int PRIMARY KEY, location text, hourOpen int, hourClose int, supervisorID int)''')\n",
        "connectionToDatabase.commit()"
      ],
      "execution_count": 0,
      "outputs": []
    },
    {
      "cell_type": "code",
      "metadata": {
        "id": "RCiNUngJNZn_",
        "colab_type": "code",
        "colab": {}
      },
      "source": [
        "cursor.execute('''insert into storeID values (1, \"Pittsburg\", 9, 6, 20);''')\n",
        "connectionToDatabase.commit()\n"
      ],
      "execution_count": 0,
      "outputs": []
    },
    {
      "cell_type": "code",
      "metadata": {
        "id": "j3MADiAfNaQj",
        "colab_type": "code",
        "colab": {}
      },
      "source": [
        "cursor.execute('''insert into storeID values (3, \"Philadelphia\", 8,6, 608);''')\n",
        "connectionToDatabase.commit()\n"
      ],
      "execution_count": 0,
      "outputs": []
    },
    {
      "cell_type": "code",
      "metadata": {
        "id": "ppvDsO6ENaZF",
        "colab_type": "code",
        "colab": {}
      },
      "source": [
        " \n",
        "cursor.execute('''insert into storeID values (4, \"Havana\", 12, 12, 608);''')\n",
        "connectionToDatabase.commit()\n"
      ],
      "execution_count": 0,
      "outputs": []
    },
    {
      "cell_type": "code",
      "metadata": {
        "id": "RSazOlLGNahc",
        "colab_type": "code",
        "colab": {}
      },
      "source": [
        "cursor.execute('''insert into storeID values (6, \"Johannesburg\", 9, 6, 608);''')\n",
        "connectionToDatabase.commit()\n"
      ],
      "execution_count": 0,
      "outputs": []
    },
    {
      "cell_type": "code",
      "metadata": {
        "id": "lmR_i7DxNarA",
        "colab_type": "code",
        "colab": {}
      },
      "source": [
        " \n",
        "cursor.execute('''insert into storeID values (8, \"Irkutsk\", 10, 8, 608);''')\n",
        "connectionToDatabase.commit()\n"
      ],
      "execution_count": 0,
      "outputs": []
    },
    {
      "cell_type": "code",
      "metadata": {
        "id": "FW6B0zoWOsPw",
        "colab_type": "code",
        "colab": {
          "base_uri": "https://localhost:8080/",
          "height": 101
        },
        "outputId": "d68d6289-c807-45e1-ee0e-bd8a090c2f50"
      },
      "source": [
        "cursor.execute('select * FROM storeID')\n",
        "\n",
        "for row in cursor.fetchall():\n",
        "  print (row)"
      ],
      "execution_count": 146,
      "outputs": [
        {
          "output_type": "stream",
          "text": [
            "(1, 'Pittsburg', 9, 6, 20)\n",
            "(3, 'Philadelphia', 8, 6, 608)\n",
            "(4, 'Havana', 12, 12, 608)\n",
            "(6, 'Johannesburg', 9, 6, 608)\n",
            "(8, 'Irkutsk', 10, 8, 608)\n"
          ],
          "name": "stdout"
        }
      ]
    },
    {
      "cell_type": "code",
      "metadata": {
        "id": "bLJoYEOHZzRi",
        "colab_type": "code",
        "colab": {}
      },
      "source": [
        "cursor.execute('''drop table IF EXISTS customerID''')\n",
        "connectionToDatabase.commit()\n",
        "\n",
        "cursor.execute('''create table customerID (customerID int PRIMARY KEY, userName text, password text, firstName text, lastName text, age int)''')\n",
        "connectionToDatabase.commit()"
      ],
      "execution_count": 0,
      "outputs": []
    },
    {
      "cell_type": "code",
      "metadata": {
        "id": "9I-rSDPVOQnN",
        "colab_type": "code",
        "colab": {}
      },
      "source": [
        " \n",
        "cursor.execute('''insert into customerID values (777, \"will89\", \"grandkids09\", \"George\", \"Morrison\", 89);''')\n",
        "connectionToDatabase.commit()\n"
      ],
      "execution_count": 0,
      "outputs": []
    },
    {
      "cell_type": "code",
      "metadata": {
        "id": "ZvpXeqJQOR7F",
        "colab_type": "code",
        "colab": {}
      },
      "source": [
        "cursor.execute('''insert into customerID values (718, \"bill19\", \"ethicsormorality\", \"Bill\", \"Backland\", 23);''')\n",
        "connectionToDatabase.commit()\n"
      ],
      "execution_count": 0,
      "outputs": []
    },
    {
      "cell_type": "code",
      "metadata": {
        "id": "LdP8ub3-OSG3",
        "colab_type": "code",
        "colab": {}
      },
      "source": [
        "cursor.execute('''insert into customerID values (2045, \"Jean40\", \"mongolianthroatsinging\", \"Jean\", \"Blanc\", 3);''')\n",
        "connectionToDatabase.commit()\n"
      ],
      "execution_count": 0,
      "outputs": []
    },
    {
      "cell_type": "code",
      "metadata": {
        "id": "2XAliHreOSUi",
        "colab_type": "code",
        "colab": {}
      },
      "source": [
        "cursor.execute('''insert into customerID values (91928, \"Taylor78\", \"PASSWORD\", \"Taylor\", \"Jones\", 40);''')\n",
        "connectionToDatabase.commit()\n"
      ],
      "execution_count": 0,
      "outputs": []
    },
    {
      "cell_type": "code",
      "metadata": {
        "id": "XWJKAsOMOaK5",
        "colab_type": "code",
        "colab": {}
      },
      "source": [
        " \n",
        "cursor.execute('''insert into customerID values (1578, \"jimmys289\", \"fido300\", \"Jim\", \"John\", 59);''')\n",
        "connectionToDatabase.commit()\n"
      ],
      "execution_count": 0,
      "outputs": []
    },
    {
      "cell_type": "code",
      "metadata": {
        "id": "KUua1E1nQGXG",
        "colab_type": "code",
        "colab": {
          "base_uri": "https://localhost:8080/",
          "height": 101
        },
        "outputId": "a3396c5f-8493-47e4-f418-0ec8171071e4"
      },
      "source": [
        "cursor.execute('select * FROM customerID')\n",
        "\n",
        "for row in cursor.fetchall():\n",
        "  print (row)"
      ],
      "execution_count": 153,
      "outputs": [
        {
          "output_type": "stream",
          "text": [
            "(777, 'will89', 'grandkids09', 'George', 'Morrison', 89)\n",
            "(718, 'bill19', 'ethicsormorality', 'Bill', 'Backland', 23)\n",
            "(2045, 'Jean40', 'mongolianthroatsinging', 'Jean', 'Blanc', 3)\n",
            "(91928, 'Taylor78', 'PASSWORD', 'Taylor', 'Jones', 40)\n",
            "(1578, 'jimmys289', 'fido300', 'Jim', 'John', 59)\n"
          ],
          "name": "stdout"
        }
      ]
    },
    {
      "cell_type": "markdown",
      "metadata": {
        "id": "fJdnhBjFycHB",
        "colab_type": "text"
      },
      "source": [
        "Which month do people adopt animals in the most?\n",
        "\n"
      ]
    },
    {
      "cell_type": "code",
      "metadata": {
        "id": "JxBfSCI_R2UQ",
        "colab_type": "code",
        "colab": {
          "base_uri": "https://localhost:8080/",
          "height": 84
        },
        "outputId": "625f1bae-6423-4e5e-9748-d5be72618a3c"
      },
      "source": [
        "cursor.execute('''select monthAdopted, COUNT(monthAdopted) from animal group by monthAdopted order by count(monthAdopted) desc limit 5''')\n",
        "for row in cursor.fetchall():\n",
        "  print (row)"
      ],
      "execution_count": 168,
      "outputs": [
        {
          "output_type": "stream",
          "text": [
            "('January', 2)\n",
            "('March', 1)\n",
            "('May', 1)\n",
            "('September', 1)\n"
          ],
          "name": "stdout"
        }
      ]
    },
    {
      "cell_type": "markdown",
      "metadata": {
        "id": "JyY5dg4oV3mu",
        "colab_type": "text"
      },
      "source": [
        "People adopt the most during the month of January.  We came to the conclusion because during this time it is the coldest part of the year. This data allowed us to see when the best months of business throughout the year.  We would be able to use this data in order to know to hold more animals in the shelter during this time. We also chose this question to show the data on the peak adoption times throughout the year.  \n"
      ]
    },
    {
      "cell_type": "markdown",
      "metadata": {
        "id": "Lw0UW3JfTw6y",
        "colab_type": "text"
      },
      "source": [
        "Which animal is adopted the most?"
      ]
    },
    {
      "cell_type": "code",
      "metadata": {
        "id": "_73E9uBZT2Yn",
        "colab_type": "code",
        "colab": {
          "base_uri": "https://localhost:8080/",
          "height": 84
        },
        "outputId": "60b8d8b4-ba3b-4ea7-f53f-8868d65c25b1"
      },
      "source": [
        "cursor.execute('''select breed, COUNT(breed) from animal group by breed order by count(breed) desc limit 5''')\n",
        "for row in cursor.fetchall():\n",
        "  print (row)"
      ],
      "execution_count": 167,
      "outputs": [
        {
          "output_type": "stream",
          "text": [
            "('Dog', 2)\n",
            "('Caracal', 1)\n",
            "('Chicken', 1)\n",
            "('Lynx', 1)\n"
          ],
          "name": "stdout"
        }
      ]
    },
    {
      "cell_type": "markdown",
      "metadata": {
        "id": "9sBWN4F8Vu_F",
        "colab_type": "text"
      },
      "source": [
        "The most adopted animal type is dogs. This question was used to display the rate of adoption for animals, which can be compared to find trends. The purpose is to use these trends as information, then translated to knowledge. This allows the business to understand which animals are the most important to have available to adopters at any given time."
      ]
    },
    {
      "cell_type": "markdown",
      "metadata": {
        "id": "TFwY5CU6UfNJ",
        "colab_type": "text"
      },
      "source": [
        "Which employees have the highest salaries?"
      ]
    },
    {
      "cell_type": "code",
      "metadata": {
        "id": "Zz1_uQvDUmcZ",
        "colab_type": "code",
        "colab": {
          "base_uri": "https://localhost:8080/",
          "height": 101
        },
        "outputId": "5472b5fc-aca0-416c-a75b-48d0ece8c44b"
      },
      "source": [
        "cursor.execute('''select jobTitle, salary from employees order by salary desc limit 5''')\n",
        "for row in cursor.fetchall():\n",
        "  print (row)"
      ],
      "execution_count": 171,
      "outputs": [
        {
          "output_type": "stream",
          "text": [
            "('Manager', 70000)\n",
            "('Regional-Manager', 40000)\n",
            "('Cashier', 32000)\n",
            "('Cashier', 30000)\n",
            "('Cashier', 25495)\n"
          ],
          "name": "stdout"
        }
      ]
    },
    {
      "cell_type": "markdown",
      "metadata": {
        "id": "6GUV70p9VFh4",
        "colab_type": "text"
      },
      "source": [
        "The employees with the highest salaries are managers. Our one manager in our dataset makes 70,000 dollars, then our one regional manager makes the second most with 40,000 dollars. The question allows the business to manage expenses as well as gain a baseline for the average cost of personnel. Management can compare people with similar jobs to make sure everyone receives a fair salary for their position. Lastly, the adoption center can compare the salaries of employees with other similar adoption centers.\n"
      ]
    }
  ]
}